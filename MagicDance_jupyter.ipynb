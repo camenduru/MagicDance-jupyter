{
  "cells": [
    {
      "cell_type": "markdown",
      "metadata": {
        "id": "view-in-github"
      },
      "source": [
        "[![Open In Colab](https://colab.research.google.com/assets/colab-badge.svg)](https://colab.research.google.com/github/camenduru/MagicDance-jupyter/blob/main/MagicDance_jupyter.ipynb)"
      ]
    },
    {
      "cell_type": "code",
      "execution_count": null,
      "metadata": {
        "id": "VjYy0F2gZIPR"
      },
      "outputs": [],
      "source": [
        "%cd /content\n",
        "!git clone -b dev https://github.com/camenduru/MagicDance\n",
        "%cd /content/MagicDance\n",
        "!pip install tensorboard==2.12.1 langdetect==1.0.9 omegaconf==2.3.0 diffusers==0.11.1 pytorch-lightning==2.1.3 clip==0.2.0\n",
        "\n",
        "!apt -y install -qq aria2 unzip\n",
        "!aria2c --console-log-level=error -c -x 16 -s 16 -k 1M https://huggingface.co/camenduru/MagicDance/resolve/main/control_sd15_ini.ckpt -d /content/MagicDance/pretrained_weights -o control_sd15_ini.ckpt\n",
        "!aria2c --console-log-level=error -c -x 16 -s 16 -k 1M https://huggingface.co/camenduru/MagicDance/resolve/main/control_v11p_sd15_openpose.pth -d /content/MagicDance/pretrained_weights -o control_v11p_sd15_openpose.pth\n",
        "!aria2c --console-log-level=error -c -x 16 -s 16 -k 1M https://huggingface.co/camenduru/MagicDance/resolve/main/model_state-10000.th -d /content/MagicDance/pretrained_weights -o model_state-10000.th\n",
        "!aria2c --console-log-level=error -c -x 16 -s 16 -k 1M https://huggingface.co/camenduru/MagicDance/resolve/main/model_state-110000.th -d /content/MagicDance/pretrained_weights -o model_state-110000.th\n",
        "!aria2c --console-log-level=error -c -x 16 -s 16 -k 1M https://huggingface.co/camenduru/MagicDance/resolve/main/disco_test_set.zip -d /content/MagicDance/TikTok-v4 -o disco_test_set.zip\n",
        "!unzip -qq /content/MagicDance/TikTok-v4/disco_test_set.zip -d /content/MagicDance/TikTok-v4\n",
        "!aria2c --console-log-level=error -c -x 16 -s 16 -k 1M https://huggingface.co/camenduru/MagicDance/resolve/main/pose_map_disco_test_set.zip -d /content/MagicDance/TikTok-v4 -o pose_map_disco_test_set.zip\n",
        "!unzip -qq /content/MagicDance/TikTok-v4/pose_map_disco_test_set.zip -d /content/MagicDance/TikTok-v4"
      ]
    },
    {
      "cell_type": "code",
      "execution_count": null,
      "metadata": {},
      "outputs": [],
      "source": [
        "!CUDA_VISIBLE_DEVICES=0 torchrun --master_port 10000 test_tiktok.py \\\n",
        "--model_config /content/MagicDance/model_lib/ControlNet/models/cldm_v15_reference_only_pose.yaml \\\n",
        "--num_train_steps 10 \\\n",
        "--img_bin_limit all \\\n",
        "--train_batch_size 1 \\\n",
        "--use_fp16 \\\n",
        "--control_mode controlnet_important \\\n",
        "--control_type body+hand+face \\\n",
        "--train_dataset tiktok_video_arnold \\\n",
        "--with_text \\\n",
        "--wonoise \\\n",
        "--local_image_dir /content/MagicDance/tiktok_test_log/image_log/magicdance \\\n",
        "--local_log_dir /content/MagicDance/tiktok_test_log/tb_log/magicdance \\\n",
        "--image_pretrain_dir /content/MagicDance/pretrained_weights/model_state-110000.th \\\n",
        "--init_path /content/MagicDance/pretrained_weights/control_sd15_ini.ckpt"
      ]
    }
  ],
  "metadata": {
    "accelerator": "GPU",
    "colab": {
      "gpuType": "T4",
      "provenance": []
    },
    "kernelspec": {
      "display_name": "Python 3",
      "name": "python3"
    },
    "language_info": {
      "name": "python"
    }
  },
  "nbformat": 4,
  "nbformat_minor": 0
}
